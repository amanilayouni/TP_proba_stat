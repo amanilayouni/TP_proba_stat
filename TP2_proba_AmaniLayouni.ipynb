{
 "cells": [
  {
   "cell_type": "markdown",
   "metadata": {},
   "source": [
    "# Simulation du jeux de LIDO simplifié\n",
    "  <h1 align=\"left\"><font color=\"red\">LAYOUNI Amani 2LM3 TP2 </h1>\n",
    "    <h2 align=\"left\"><font color=\"BROWN\">COMPTE RENDU 2 </h2>"
   ]
  },
  {
   "cell_type": "markdown",
   "metadata": {},
   "source": [
    "## Principe\n",
    "On considére un jeux de Lido simple:\n",
    "on dispose d'un un seul pion.\n",
    "\n",
    "- Etape 0 :\n",
    "Le pion doit sort de sa prison lorsqu'on obtient un 6.\n",
    "\n",
    "- Etape 1 :\n",
    "Le pion doit atteindre exactement une position cible situé à N pas de distance de sa prison \n",
    "\n",
    "Soit $X_n$ la variable aléatoire qui represente le nombre de coup nécéssaire pour atteindre la positions cible.\n",
    "\n",
    "**Objectif 1** : Simuler le jeux \n",
    "\n",
    "**Objectif 2** : Calculer une estimation de l'éspérance mathématique de $X_n$ en utilisant `python`\n",
    "\n",
    "**Objéctif 3** : Observer la variation de $\\mathbb{E}(X_n)$ en fonction de $n$\n",
    "\n",
    "<img src=\"LIDO.png\">\n"
   ]
  },
  {
   "cell_type": "code",
   "execution_count": 165,
   "metadata": {},
   "outputs": [],
   "source": [
    "import numpy as np \n",
    "# C'est l'importation de la bibliothéque \"numpy\" pour effectuer des opérations mathématiques et statistiques."
   ]
  },
  {
   "cell_type": "markdown",
   "metadata": {},
   "source": [
    "### Simulation du lancé de dé"
   ]
  },
  {
   "cell_type": "code",
   "execution_count": 166,
   "metadata": {},
   "outputs": [],
   "source": [
    "def Roll():\n",
    "    return int(np.random.choice(range (1,7),1)) \n",
    "#La fonction Roll permet de choisir aléatoirement un entier."
   ]
  },
  {
   "cell_type": "code",
   "execution_count": 167,
   "metadata": {},
   "outputs": [
    {
     "data": {
      "text/plain": [
       "5"
      ]
     },
     "execution_count": 167,
     "metadata": {},
     "output_type": "execute_result"
    }
   ],
   "source": [
    "Roll()"
   ]
  },
  {
   "cell_type": "markdown",
   "metadata": {},
   "source": [
    "### Compléter le code et commenter"
   ]
  },
  {
   "cell_type": "code",
   "execution_count": 168,
   "metadata": {
    "scrolled": false
   },
   "outputs": [
    {
     "name": "stdout",
     "output_type": "stream",
     "text": [
      "2 6\n",
      "Sorties apres 2 coups\n",
      "3 6 6\n",
      "4 1 7\n",
      "5 4 7\n",
      "6 5 7\n",
      "7 6 7\n",
      "8 3 10\n"
     ]
    }
   ],
   "source": [
    "A=0\n",
    "#A est la position du pion \n",
    "NA=0\n",
    "#NA est le nb de coups\n",
    "S=10\n",
    "#S: position du cible \n",
    "temp = Roll()\n",
    "#temp prend la fonction de Roll() qui donne un nombre aléatoire entre 1 et 6.\n",
    "NA+=1\n",
    "while (temp!=6):\n",
    "    temp=Roll()\n",
    "    NA+=1\n",
    "    print(NA, temp)\n",
    "#repeat roll() jusqu'a avoir 6 avec l'incrementation du  nb de coups \n",
    "print(\"Sorties apres {} coups\".format(NA))\n",
    "while(A != S):\n",
    "#repeat jusqu'a A=position du cible 'S=10' \n",
    "    temp=Roll()\n",
    "    if temp+A < S:\n",
    "        A+=temp\n",
    "        NA+=1\n",
    "        print(NA, temp, A)\n",
    "    elif temp+A > S:\n",
    "        NA+=1\n",
    "        print(NA, temp, A)\n",
    "    else:\n",
    "        A=S\n",
    "        NA+=1\n",
    "        print(NA, temp, A)"
   ]
  },
  {
   "cell_type": "markdown",
   "metadata": {},
   "source": [
    "### Simulation\n",
    "Ecrire une foction `sim` qui simule le jeux et qui prend comme variable le nombre de pas $n$ nécessaaire pour atteindre la cible"
   ]
  },
  {
   "cell_type": "code",
   "execution_count": 169,
   "metadata": {},
   "outputs": [],
   "source": [
    "def sim(S):\n",
    "    A=0 \n",
    "    NA=0 \n",
    "    temp=Roll()\n",
    "    NA+=1\n",
    "    while temp!=6:\n",
    "        temp=Roll()\n",
    "        NA+=1\n",
    "    A=1\n",
    "    while(A<S):\n",
    "        temp=Roll()\n",
    "        if temp+A<S:\n",
    "            NA+=1\n",
    "            A+=temp\n",
    "        elif temp+A>S:\n",
    "            NA+=1\n",
    "        else:\n",
    "            A=S\n",
    "            NA+=1\n",
    "    return NA\n",
    "\n",
    "    "
   ]
  },
  {
   "cell_type": "markdown",
   "metadata": {},
   "source": [
    "####   -  COMMENTAIRE :\n",
    "   - la fonction sim() renvoie le nombre de coups NA necessaires pour atteindre la cible S "
   ]
  },
  {
   "cell_type": "code",
   "execution_count": 170,
   "metadata": {},
   "outputs": [
    {
     "data": {
      "text/plain": [
       "7"
      ]
     },
     "execution_count": 170,
     "metadata": {},
     "output_type": "execute_result"
    }
   ],
   "source": [
    "sim(10)"
   ]
  },
  {
   "cell_type": "code",
   "execution_count": 171,
   "metadata": {},
   "outputs": [
    {
     "name": "stdout",
     "output_type": "stream",
     "text": [
      "estimation de la moyenne de X_30 = 18.9729\n"
     ]
    }
   ],
   "source": [
    "#simulation 30000 fois \n",
    "#s=30\n",
    "L=[sim(30) for i in range(30000)]\n",
    "Moy=sum(L)/30000\n",
    "print('estimation de la moyenne de X_30 = {}'.format(Moy))\n",
    "# calculer la moyenne de coups jusqu'à atteindre une position cible de s pour un simulation de 30000 "
   ]
  },
  {
   "cell_type": "markdown",
   "metadata": {},
   "source": [
    "### Simulation de $10^5$  scénario "
   ]
  },
  {
   "cell_type": "code",
   "execution_count": 172,
   "metadata": {},
   "outputs": [],
   "source": [
    "x=list(range(10,20))\n",
    "y=[sum([sim(u) for i in range(10000)])/10000 for u in x] \n"
   ]
  },
  {
   "cell_type": "markdown",
   "metadata": {},
   "source": [
    "####  -  COMMENTAIRE : \n",
    " - x,y sont des listes de dimension egale à 10\n",
    " - on simule le jeu puis on calcule la moyenne de chaque simulation et on met le resultat dans la liste y"
   ]
  },
  {
   "cell_type": "code",
   "execution_count": 173,
   "metadata": {},
   "outputs": [],
   "source": [
    "import matplotlib.pyplot as plt"
   ]
  },
  {
   "cell_type": "code",
   "execution_count": 174,
   "metadata": {},
   "outputs": [
    {
     "data": {
      "image/png": "[encoded data removed]",
      "text/plain": [
       "<Figure size 432x288 with 1 Axes>"
      ]
     },
     "metadata": {
      "needs_background": "light"
     },
     "output_type": "display_data"
    }
   ],
   "source": [
    "plt.plot(x, y, \"m*\")\n",
    "plt.show()"
   ]
  },
  {
   "cell_type": "markdown",
   "metadata": {},
   "source": [
    " * les résultats sont représentés dans une courbe d'abscisse x et d'ordonnée y"
   ]
  },
  {
   "cell_type": "code",
   "execution_count": 175,
   "metadata": {},
   "outputs": [],
   "source": [
    "from scipy import stats\n",
    "import numpy as np\n",
    "slope, intercept, r_value, p_value, std_err = stats.linregress(x,y)"
   ]
  },
  {
   "cell_type": "code",
   "execution_count": 176,
   "metadata": {},
   "outputs": [
    {
     "data": {
      "text/plain": [
       "0.28982606060606075"
      ]
     },
     "execution_count": 176,
     "metadata": {},
     "output_type": "execute_result"
    }
   ],
   "source": [
    "slope \n",
    "#a \n",
    "#pente"
   ]
  },
  {
   "cell_type": "code",
   "execution_count": 177,
   "metadata": {},
   "outputs": [
    {
     "data": {
      "text/plain": [
       "10.417832121212118"
      ]
     },
     "execution_count": 177,
     "metadata": {},
     "output_type": "execute_result"
    }
   ],
   "source": [
    "intercept\n",
    "#b"
   ]
  },
  {
   "cell_type": "code",
   "execution_count": 178,
   "metadata": {},
   "outputs": [],
   "source": [
    "yy=[slope *u +intercept for u in x]\n",
    "#droite y=ax+b"
   ]
  },
  {
   "cell_type": "code",
   "execution_count": 179,
   "metadata": {},
   "outputs": [
    {
     "data": {
      "image/png": "[encoded data removed]",
      "text/plain": [
       "<Figure size 432x288 with 1 Axes>"
      ]
     },
     "metadata": {
      "needs_background": "light"
     },
     "output_type": "display_data"
    }
   ],
   "source": [
    "plt.plot(x,y,\"*m\",x,yy,\"-g\")\n",
    "plt.show()"
   ]
  },
  {
   "cell_type": "markdown",
   "metadata": {},
   "source": [
    "## CONCLUSION : "
   ]
  },
  {
   "cell_type": "markdown",
   "metadata": {},
   "source": [
    "- On a executee la simulation pour differentes valeurs de n , pour chaque simulation on a fait l'estimation de la moyenne\n",
    "- On a calculer la jouabilité de ce jeu \n",
    "- On peut conclure que l'ésperance mathématique de Xn est à peut prés egale à 0.2898*$n$+10.417\n",
    "     - $\\mathbb{E}(X_n)$ =~ 0.2898*$n$+10.417\n",
    "\n"
   ]
  },
  {
   "cell_type": "code",
   "execution_count": null,
   "metadata": {},
   "outputs": [],
   "source": []
  }
 ],
 "metadata": {
  "kernelspec": {
   "display_name": "Python 3 (ipykernel)",
   "language": "python",
   "name": "python3"
  },
  "language_info": {
   "codemirror_mode": {
    "name": "ipython",
    "version": 3
   },
   "file_extension": ".py",
   "mimetype": "text/x-python",
   "name": "python",
   "nbconvert_exporter": "python",
   "pygments_lexer": "ipython3",
   "version": "3.8.8"
  }
 },
 "nbformat": 4,
 "nbformat_minor": 4
}
